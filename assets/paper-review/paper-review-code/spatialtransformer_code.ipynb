{
 "cells": [
  {
   "cell_type": "markdown",
   "metadata": {
    "colab_type": "text",
    "id": "eXFfI0wi2OWc"
   },
   "source": [
    "> ### EEE4423: Deep Learning Lab\n",
    "\n",
    "# LAB \\#4: Limitation: Spatial Transformer Network(STN)"
   ]
  },
  {
   "cell_type": "code",
   "execution_count": 344,
   "metadata": {
    "colab": {},
    "colab_type": "code",
    "id": "QsMlF0RR2OWg",
    "outputId": "6ba88b6c-4541-49f8-e21f-086706c61e66"
   },
   "outputs": [
    {
     "name": "stdout",
     "output_type": "stream",
     "text": [
      "This code is written at 2023-03-27 06:49:35.762741\n"
     ]
    }
   ],
   "source": [
    "import datetime\n",
    "print(\"This code is written at \" + str(datetime.datetime.now()))"
   ]
  },
  {
   "cell_type": "markdown",
   "metadata": {
    "colab_type": "text",
    "id": "SxWW19iY2OWm"
   },
   "source": [
    "## Spatial Transformer Network for classification of distorted MNIST dataset"
   ]
  },
  {
   "cell_type": "markdown",
   "metadata": {
    "colab_type": "text",
    "id": "hzBuF0OV2OWn"
   },
   "source": [
    "## Spatial Transformer Network(STN) [1]\n",
    ">- CNNs are limited by the lack of ability to be spatially invariant to the input data\n",
    ">- Learnable module which explicitly allows the spatial manipulation of data within the network\n",
    ">- This differentiable module can be inserted into existing convolutional architectures\n",
    "\n",
    "<img src=\"http://drive.google.com/uc?export=view&id=1GV2Ix6wuikWdq6-tGkZv2vMQbqMokDbf\" alt=\"no_image\" style=\"width: 900px;\"/>\n",
    "\n",
    "### STN module\n",
    ">1. Localization Network\n",
    ">>- With given input feature map, this network outputs the parameters of the spatial transformation (e.g. 6 parameters for affine transformation)\n",
    ">>- Reference for affine transformation : [2],[3] <br>\n",
    ">> <img src=\"http://drive.google.com/uc?export=view&id=1qho08Gzea5qDTpmsnii0rvwiLzwy54K6\" alt=\"no_image\" style=\"width: 900px;\"/>\n",
    "\n",
    ">2. Parameterised sampling grid (Grid generator)\n",
    ">>- Set of points where the input feature map is sampled to produce the transformation which is a output of localization network  \n",
    ">>- Target coordinate and source coordinate are normalised ($ -1\\le(x_i^t, y_i^t)\\le1$,$ -1\\le(x_i^s, y_i^s)\\le1$ )\n",
    "<img src=\"http://drive.google.com/uc?export=view&id=1pRWzwevo1KjWi3WIC4K8SCkK4oYCD7FZ\" alt=\"no_image\" style=\"width: 500px;\"/>\n",
    ">3. Differentiable Image Sampling (Sampler)\n",
    ">>- Ouput feature map is produced by differentiable bilinear interpolation with input feature map and parameterised sampling grid\n",
    "    \n",
    "<img src=\"http://drive.google.com/uc?export=view&id=1EjoZ6CVLTD3QNl1CKbg1w3YiNf1CzOmH\" alt=\"no_image\" style=\"width: 900px;\"/>\n"
   ]
  },
  {
   "cell_type": "code",
   "execution_count": 3,
   "metadata": {
    "colab": {},
    "colab_type": "code",
    "id": "0AoHVrM52OWo"
   },
   "outputs": [],
   "source": [
    "import warnings\n",
    "import numpy as np\n",
    "import torch\n",
    "import torch.nn as nn\n",
    "import torch.optim as optim\n",
    "import torch.nn.init as init\n",
    "import torchvision.datasets as dset\n",
    "import torchvision.transforms as transforms\n",
    "from torch.utils.data import DataLoader\n",
    "from torch.autograd import Variable\n",
    "import torch.nn.functional as F\n",
    "import torchvision.utils as v_utils\n",
    "import matplotlib.pyplot as plt\n",
    "from PIL import Image\n",
    "import cv2\n",
    "import io\n",
    "import requests\n",
    "import os \n",
    "import copy\n",
    "import time\n",
    "%matplotlib inline\n",
    "\n",
    "warnings.filterwarnings(\"ignore\")"
   ]
  },
  {
   "cell_type": "code",
   "execution_count": 4,
   "metadata": {
    "colab": {},
    "colab_type": "code",
    "id": "g84YJUCD2OWr",
    "outputId": "006c73a3-31d5-4b0c-982d-34a203b6f27a"
   },
   "outputs": [
    {
     "data": {
      "text/plain": [
       "'NVIDIA GeForce RTX 3090'"
      ]
     },
     "execution_count": 4,
     "metadata": {},
     "output_type": "execute_result"
    }
   ],
   "source": [
    "device0 = torch.device(\"cuda:0\" if torch.cuda.is_available() else \"cpu\")\n",
    "torch.cuda.get_device_name(0)"
   ]
  },
  {
   "cell_type": "code",
   "execution_count": 5,
   "metadata": {
    "colab": {},
    "colab_type": "code",
    "id": "-gaJ_3Gv2OWv"
   },
   "outputs": [],
   "source": [
    "# parameters\n",
    "\n",
    "batch_size = 256\n",
    "learning_rate = 0.001\n",
    "num_epoch = 60\n",
    "num_classes = 10"
   ]
  },
  {
   "cell_type": "markdown",
   "metadata": {
    "colab_type": "text",
    "id": "HHuhiUfN2OWy"
   },
   "source": [
    "### 1. Dataset (Distorted MNIST, details in Appendix A.4 Distorted MNIST) [1point]\n",
    ">- Generate RTS(rotated, translated, scaled) MNIST \n",
    ">>- Use *torchvision.transforms*\n",
    ">>- Randomly rotating between $-45^\\circ, 45^\\circ$\n",
    ">>- Randomly scaling the digit by a factor of between $0.7,1.2$\n",
    ">>- Placing the digit in a random location in a $40\\times40$ region of image's center\n",
    ">>- Zerp padding to increase image's size for the digit's translation ($80\\times80$ image)\n",
    ">>- Images to tensor \n",
    ">>- Normalize data with MNIST dataset's mean and standard deviation printed in the 5th cell below\n"
   ]
  },
  {
   "cell_type": "markdown",
   "metadata": {
    "colab_type": "text",
    "id": "tFHJ42zM2OW0"
   },
   "source": [
    "#### 1.1 Write codes for dataset's transformation [1 point]\n"
   ]
  },
  {
   "cell_type": "code",
   "execution_count": 353,
   "metadata": {
    "colab": {},
    "colab_type": "code",
    "id": "hJaXUT-12OW1",
    "outputId": "830a480e-708b-4bf5-b508-cfb78023e757"
   },
   "outputs": [
    {
     "name": "stdout",
     "output_type": "stream",
     "text": [
      "STEP 1: DEFINE DATASET\n",
      "MNIST mean:  tensor(0.1307)\n",
      "MNIST std:  tensor(0.3081)\n"
     ]
    }
   ],
   "source": [
    "print('STEP 1: DEFINE DATASET')\n",
    "\n",
    "# CenterCrop -> 80x80(zeropadded)\n",
    "# Random affine : scale, rotation and tranlsation\n",
    "# - translation = (1/4, 1/4) -> make -20 < dx(dy) < 20\n",
    "\n",
    "    \n",
    "distortion = transforms.Compose([\n",
    "    transforms.ToTensor(),\n",
    "    transforms.CenterCrop((80,80)),\n",
    "    transforms.RandomAffine(degrees = (-45,45), translate = (0.25,0.25),scale=(0.7,1.2),fill =0 ),    \n",
    "    transforms.Normalize(mean = 0.1307, std = 0.3081),\n",
    "])\n",
    "\n",
    "train_dataset = dset.MNIST(root='../dataset/lab04/MNIST', train=True, \n",
    "                        #############\n",
    "                        # CODE HERE #\n",
    "                        #############\n",
    "                        transform = distortion,\n",
    "                        target_transform=None,\n",
    "                        download=True)\n",
    "test_dataset = dset.MNIST(root='../dataset/lab04/MNIST', train=False, \n",
    "                        #############\n",
    "                        # CODE HERE #\n",
    "                        #############\n",
    "                        transform = distortion,\n",
    "                        target_transform=None,\n",
    "                        download=False)\n",
    "\n",
    "\n",
    "train_size = len(train_dataset)\n",
    "test_size = len(test_dataset)\n",
    "\n",
    "#dataset mean and std for normalization\n",
    "print('MNIST mean: ',train_dataset.train_data.float().mean()/255)\n",
    "print('MNIST std: ',train_dataset.train_data.float().std()/255)"
   ]
  },
  {
   "cell_type": "code",
   "execution_count": 354,
   "metadata": {},
   "outputs": [
    {
     "data": {
      "text/plain": [
       "<matplotlib.image.AxesImage at 0x7fc401918828>"
      ]
     },
     "execution_count": 354,
     "metadata": {},
     "output_type": "execute_result"
    },
    {
     "data": {
      "image/png": "[encoded data removed]",
      "text/plain": [
       "<Figure size 432x288 with 1 Axes>"
      ]
     },
     "metadata": {
      "needs_background": "light"
     },
     "output_type": "display_data"
    }
   ],
   "source": [
    "x= train_dataset[0][0].permute(1,2,\n",
    "                               0)\n",
    "plt.imshow(x,cmap ='gray')"
   ]
  },
  {
   "cell_type": "code",
   "execution_count": 355,
   "metadata": {
    "colab": {},
    "colab_type": "code",
    "id": "dmdruxLV2OW5",
    "outputId": "55ecb3fe-8846-4515-8299-44c879306370"
   },
   "outputs": [
    {
     "name": "stdout",
     "output_type": "stream",
     "text": [
      "Train dataset size: 60000\n",
      "Test dataset size: 10000\n"
     ]
    }
   ],
   "source": [
    "print('Train dataset size: {}'.format(len(train_dataset)))\n",
    "print('Test dataset size: {}'.format(len(test_dataset)))"
   ]
  },
  {
   "cell_type": "markdown",
   "metadata": {
    "colab_type": "text",
    "id": "P9PliNxe2OW9"
   },
   "source": [
    "###  Visualize Dataset\n"
   ]
  },
  {
   "cell_type": "code",
   "execution_count": 356,
   "metadata": {
    "colab": {},
    "colab_type": "code",
    "id": "D7MVg2wH2OW-",
    "outputId": "e0a1b9cb-c9db-477d-a825-91f0cacd88e7"
   },
   "outputs": [
    {
     "data": {
      "image/png": "[encoded data removed]",
      "text/plain": [
       "<Figure size 720x360 with 4 Axes>"
      ]
     },
     "metadata": {
      "needs_background": "light"
     },
     "output_type": "display_data"
    }
   ],
   "source": [
    "figure = plt.figure(figsize= (10,5))\n",
    "\n",
    "for i in range(train_size):\n",
    "    sample = train_dataset[i]\n",
    "    figure.add_subplot(1,4,i+1).set_title('Label:{}'.format(sample[1]))\n",
    "    imgplot = plt.imshow((sample[0].squeeze(0).cpu()+1)/2,cmap = 'gray')\n",
    "    if i == 3:\n",
    "        plt.show()\n",
    "        break"
   ]
  },
  {
   "cell_type": "code",
   "execution_count": 357,
   "metadata": {
    "colab": {},
    "colab_type": "code",
    "id": "h9wwuE7t2OXC",
    "outputId": "835d6b06-3445-4404-f5de-6f5869a060f5"
   },
   "outputs": [
    {
     "name": "stdout",
     "output_type": "stream",
     "text": [
      "STEP 2: LOADING DATASET\n"
     ]
    }
   ],
   "source": [
    "print('STEP 2: LOADING DATASET')\n",
    "\n",
    "train_loader = torch.utils.data.DataLoader(train_dataset,batch_size=batch_size, shuffle=True,num_workers=4,drop_last=True)\n",
    "test_loader = torch.utils.data.DataLoader(test_dataset,batch_size=batch_size, shuffle=False,num_workers=4,drop_last=True)"
   ]
  },
  {
   "cell_type": "markdown",
   "metadata": {
    "colab_type": "text",
    "id": "WkYr7Cp_2OXG"
   },
   "source": [
    "##  Model\n",
    "### 2. CNN Model Setup (details in Appendix A.4 Distorted MNIST) [3points]\n",
    ">\n",
    ">1. CNN \n",
    ">>- 2 convolutional layers and 2 max-pooling layers before final classification layer\n",
    ">>- Two conv layers have 32 and 64 filters and use ReLU \n",
    ">2. Classifier\n",
    ">>- 2 fully-connected layers and the number of input features to the last layer is 128\n",
    ">>- Also use ReLU as an activation function\n",
    ">3. ST module\n",
    ">>- At the beginning of the network\n",
    ">>- 2 convolutional layer and 2 fully-connected layer in localization network\n",
    ">>- Initialize the *fc_loc*'s final regression layer with identity transformation\n",
    ">>- Produce affine transformation parameters for RTS dataset\n",
    ">>- Reference for grid generator function: [4] <br>\n",
    ">>- Reference for sampler function: [5] <br>\n",
    ">\n",
    "> **++Hint: All learnable parameters' sizes of model are in the 10th cell below** <br>\n",
    "> **++For RTS datasets, the network has average pooling layer after the ST module to downsample the output of the transformer by a factor of 2**\n",
    "\n",
    "| **Layer** | **Kernel size** | **stride** | **padding** |\n",
    "|:---:|:---:|:---:|:---:|\n",
    "| 1st Conv of *cnn* | 9 | 1 | 0 |\n",
    "| 2nd Conv of *cnn* | 7 | 1 | 0 |\n",
    "| 1st Conv of *localization* | 5 | 1 | 0 |\n",
    "| 2nd Conv of *localization* | 5 | 1 | 0 |\n",
    "| AvgPool | 2 | 2 | 0 |\n",
    "| MaxPool | 2 | 2 | 0 |\n"
   ]
  },
  {
   "cell_type": "markdown",
   "metadata": {
    "colab_type": "text",
    "id": "cYHuW3KR2OXH"
   },
   "source": [
    "#### 2.1 Write codes for the model class (STN_CNN) [3 points]\n"
   ]
  },
  {
   "cell_type": "code",
   "execution_count": 6,
   "metadata": {
    "colab": {},
    "colab_type": "code",
    "id": "pT5hnJ6l2OXI",
    "outputId": "8ea84272-477f-4eb9-8574-c38f600d70c6"
   },
   "outputs": [
    {
     "name": "stdout",
     "output_type": "stream",
     "text": [
      "STEP 3: CREATE MODEL CLASS (STN_CNN)\n"
     ]
    }
   ],
   "source": [
    "print('STEP 3: CREATE MODEL CLASS (STN_CNN)')\n",
    "\n",
    "#############\n",
    "# CODE HERE #\n",
    "#############\n",
    "\n",
    "class STN_CNN(nn.Module):\n",
    "    def __init__(self):\n",
    "        super(STN_CNN,self).__init__()\n",
    "        self.cnn = nn.Sequential(\n",
    "            nn.AvgPool2d(2,2), #avg pool after ST module 80x80 -> 40\n",
    "            nn.Conv2d(1, 32,9), # 40 -> 32\n",
    "            nn.MaxPool2d(2,2), # 32 -> 16\n",
    "            nn.ReLU(),\n",
    "            nn.Conv2d(32,64,7), # 16 ->10\n",
    "            nn.MaxPool2d(2,2),  # 10 -> 5\n",
    "            nn.ReLU()            \n",
    "        )\n",
    "        \n",
    "        self.classifier = nn.Sequential(\n",
    "            nn.Linear( 1600 ,128), # 5x5x64 = 1600 -> 128\n",
    "            nn.ReLU(),\n",
    "            nn.Linear(128,10)\n",
    "        )\n",
    "      \n",
    "        self.localization = nn.Sequential(\n",
    "            nn.Conv2d(1, 20, 5), # 80 -> 76\n",
    "            nn.MaxPool2d(2,2),   # 76 -> 38, 2x downsample (details in paper's appendix A.4)\n",
    "            nn.ReLU(),\n",
    "            nn.Conv2d(20,20,5), # 38 -> 34?\n",
    "            nn.ReLU()\n",
    "        )\n",
    "        \n",
    "        self.fc_loc = nn.Sequential(\n",
    "            # initialize fc_loc's final regerssion layer with identitty \n",
    "            nn.Linear(23120,20),\n",
    "            nn.ReLU(),\n",
    "            nn.Linear(20,6)\n",
    "        )\n",
    "                \n",
    "        # Initialization\n",
    "        # final regression layer of localisation networks which are initialised to regress the identity transform (zero weights, identity transform bias)\n",
    "        nn.init.zeros_(self.fc_loc[-1].weight)\n",
    "        self.fc_loc[-1].bias = nn.Parameter(torch.tensor([1,0,0,0,1,0],dtype = torch.float32))\n",
    "        \n",
    "        # transform parameter\n",
    "        self.theta = torch.eye(2,3).view(1,2,3)\n",
    "    \n",
    "    # Spatial Transformer Module\n",
    "    def ST_module(self,x):\n",
    "        out = self.localization(x).view(-1,23120)\n",
    "        out = self.fc_loc(out).view(-1,2,3)   # loclization network\n",
    "        self.theta = out\n",
    "        out = nn.functional.affine_grid(theta = out, size= torch.Size((x.shape[0],1,80,80))) # grid generator: to 80x80\n",
    "        out = nn.functional.grid_sample(x, out)    # Sampler\n",
    "        return out\n",
    "    \n",
    "        \n",
    "    def forward(self, x):\n",
    "        out = model.ST_module(x)\n",
    "        # CNN\n",
    "        out = self.cnn(out).view(-1, 1600)\n",
    "        # Classifier\n",
    "        out= self.classifier(out)\n",
    "        return out"
   ]
  },
  {
   "cell_type": "code",
   "execution_count": 359,
   "metadata": {},
   "outputs": [
    {
     "name": "stdout",
     "output_type": "stream",
     "text": [
      "STEP 4: INSTANTIATE MODEL CLASS\n",
      "\n",
      "STN_CNN's state_dict:\n",
      "cnn.1.weight \t torch.Size([32, 1, 9, 9])\n",
      "cnn.1.bias \t torch.Size([32])\n",
      "cnn.4.weight \t torch.Size([64, 32, 7, 7])\n",
      "cnn.4.bias \t torch.Size([64])\n",
      "classifier.0.weight \t torch.Size([128, 1600])\n",
      "classifier.0.bias \t torch.Size([128])\n",
      "classifier.2.weight \t torch.Size([10, 128])\n",
      "classifier.2.bias \t torch.Size([10])\n",
      "localization.0.weight \t torch.Size([20, 1, 5, 5])\n",
      "localization.0.bias \t torch.Size([20])\n",
      "localization.3.weight \t torch.Size([20, 20, 5, 5])\n",
      "localization.3.bias \t torch.Size([20])\n",
      "fc_loc.0.weight \t torch.Size([20, 23120])\n",
      "fc_loc.0.bias \t torch.Size([20])\n",
      "fc_loc.2.weight \t torch.Size([6, 20])\n",
      "fc_loc.2.bias \t torch.Size([6])\n"
     ]
    }
   ],
   "source": [
    "print('STEP 4: INSTANTIATE MODEL CLASS\\n')\n",
    "model = STN_CNN()\n",
    "\n",
    "print(\"STN_CNN's state_dict:\")\n",
    "os.makedirs('weights/lab04', exist_ok=True)\n",
    "for param_tensor in model.state_dict():\n",
    "    print(param_tensor, \"\\t\", model.state_dict()[param_tensor].size())"
   ]
  },
  {
   "cell_type": "code",
   "execution_count": 360,
   "metadata": {
    "colab": {},
    "colab_type": "code",
    "id": "IjmaoyEv2OXM",
    "outputId": "bf5a432d-493d-4d2d-d8e6-fc3c8783cde6"
   },
   "outputs": [
    {
     "name": "stdout",
     "output_type": "stream",
     "text": [
      "STEP 4: INSTANTIATE MODEL CLASS\n",
      "\n",
      "STN_CNN's state_dict:\n",
      "cnn.1.weight \t torch.Size([32, 1, 9, 9])\n",
      "cnn.1.bias \t torch.Size([32])\n",
      "cnn.4.weight \t torch.Size([64, 32, 7, 7])\n",
      "cnn.4.bias \t torch.Size([64])\n",
      "classifier.0.weight \t torch.Size([128, 1600])\n",
      "classifier.0.bias \t torch.Size([128])\n",
      "classifier.2.weight \t torch.Size([10, 128])\n",
      "classifier.2.bias \t torch.Size([10])\n",
      "localization.0.weight \t torch.Size([20, 1, 5, 5])\n",
      "localization.0.bias \t torch.Size([20])\n",
      "localization.3.weight \t torch.Size([20, 20, 5, 5])\n",
      "localization.3.bias \t torch.Size([20])\n",
      "fc_loc.0.weight \t torch.Size([20, 23120])\n",
      "fc_loc.0.bias \t torch.Size([20])\n",
      "fc_loc.2.weight \t torch.Size([6, 20])\n",
      "fc_loc.2.bias \t torch.Size([6])\n"
     ]
    }
   ],
   "source": [
    "print('STEP 4: INSTANTIATE MODEL CLASS\\n')\n",
    "model = STN_CNN()\n",
    "\n",
    "print(\"STN_CNN's state_dict:\")\n",
    "os.makedirs('weights/lab04', exist_ok=True)\n",
    "for param_tensor in model.state_dict():\n",
    "    print(param_tensor, \"\\t\", model.state_dict()[param_tensor].size())"
   ]
  },
  {
   "cell_type": "markdown",
   "metadata": {
    "colab_type": "text",
    "id": "SvfNJkk02OXQ"
   },
   "source": [
    "###  Parameter updates\n",
    "#### Scheduling (Annealing) the learning rate [6]\n",
    ">- In training deep networks, it is usually helpful to anneal the learning rate over time\n",
    ">>- With high learning rate, the optimizing system can't settle down into deeper parts of the loss function\n",
    ">- When to decay can be tricky\n",
    ">>- Slowly : Wasting computation with little improvement for a long time\n",
    ">>- Aggressively: Cooling too quickly, unable to find the best point\n",
    ">- 3 common types\n",
    ">>1. Step decay: Reduce the learning rate by some factor every few epochs (e.g. half every 5 epochs, or by 0.1 every 10 epochs)\n",
    ">>2. Exponential decay: In the form of mathematical formulation $\\alpha = \\alpha_0\\exp^{-kt}$, where $\\alpha_0, k$ are hyperparameters and $t$ is the iteration number(or units of epochs)\n",
    ">>3. $1/t$ decay : In the form of mathematical formulation $\\alpha = \\alpha_0/(1+kt)$, where $\\alpha_0, k$ are hyperparameters and $t$ is the iteration number\n",
    ">- In practice, the step decay is slightly preferable\n",
    "\n",
    "#### How to adjust learning rate in pytorch [7]\n",
    ">- *torch.optim.lr_scheduler* provides several methods based on the number of epochs\n",
    ">- For example, the step decay can be implemented by *torch.optim.lr_scheduler.StepLR* class (See reference for more types)\n",
    ">- We use *ReduceLROnPlateau* class in this lab which allows dynamic learning rate adjusting based on our validation measurements\n",
    ">>- Reduce the learning rate when our metric has stopped improving \n",
    ">>- The learning rate is reduced if no improvement of our metric is seen for a 'patience' number of epochs\n",
    ">>- See reference for more details \n"
   ]
  },
  {
   "cell_type": "code",
   "execution_count": 361,
   "metadata": {
    "colab": {},
    "colab_type": "code",
    "id": "jLusumF82OXR",
    "outputId": "5830bff3-6ed8-41a4-f499-72bab0e13ad8"
   },
   "outputs": [
    {
     "name": "stdout",
     "output_type": "stream",
     "text": [
      "STEP 5: INSTANTIATE OPTIMIZER CLASS\n"
     ]
    }
   ],
   "source": [
    "print('STEP 5: INSTANTIATE OPTIMIZER CLASS')\n",
    "\n",
    "optimizer = torch.optim.Adam(model.parameters(), lr=learning_rate)\n",
    "scheduler = optim.lr_scheduler.ReduceLROnPlateau(optimizer, mode='max', factor = 0.1, patience=6)\n",
    "\n",
    "\n",
    "def get_lr(optimizer):\n",
    "    for param_group in optimizer.param_groups:\n",
    "        return param_group['lr']"
   ]
  },
  {
   "cell_type": "markdown",
   "metadata": {
    "colab_type": "text",
    "id": "vvw4SWmz2OXY"
   },
   "source": [
    "### 3.Train/Test [2points]\n"
   ]
  },
  {
   "cell_type": "markdown",
   "metadata": {
    "colab_type": "text",
    "id": "bCEa1yPU2OXa"
   },
   "source": [
    "#### 3.1Tirain the STN_CNN model and print accuracy for every epochs [2 points]\n"
   ]
  },
  {
   "cell_type": "code",
   "execution_count": 387,
   "metadata": {
    "scrolled": true
   },
   "outputs": [
    {
     "name": "stdout",
     "output_type": "stream",
     "text": [
      "STEP 6: INSTANTIATE LOSS CLASS\n",
      "STEP 7: TRAIN THE MODEL\n",
      "Train Epoch: 0 [0/60000 (0%) / Learning rate:1e-05]\tLoss:0.054090  \n",
      "Train Epoch: 0 [51200/60000 (85%) / Learning rate:1e-05]\tLoss:0.027072  \n",
      "Train Epoch: 0 [Test Loss: 0.03153951  /  Test accruacy: 99.04%]  \n",
      "////Epoch elapsed time: 20.098234176635742////\n",
      "\n",
      "Train Epoch: 1 [0/60000 (0%) / Learning rate:1e-05]\tLoss:0.022335  \n",
      "Train Epoch: 1 [51200/60000 (85%) / Learning rate:1e-05]\tLoss:0.011492  \n",
      "Train Epoch: 1 [Test Loss: 0.03750153  /  Test accruacy: 98.98%]  \n",
      "////Epoch elapsed time: 19.124221086502075////\n",
      "\n",
      "Train Epoch: 2 [0/60000 (0%) / Learning rate:1e-05]\tLoss:0.044660  \n",
      "Train Epoch: 2 [51200/60000 (85%) / Learning rate:1e-05]\tLoss:0.010373  \n",
      "Train Epoch: 2 [Test Loss: 0.03556532  /  Test accruacy: 98.84%]  \n",
      "////Epoch elapsed time: 18.791836500167847////\n",
      "\n",
      "Train Epoch: 3 [0/60000 (0%) / Learning rate:1e-05]\tLoss:0.024684  \n",
      "Train Epoch: 3 [51200/60000 (85%) / Learning rate:1e-05]\tLoss:0.017356  \n",
      "Train Epoch: 3 [Test Loss: 0.03761524  /  Test accruacy: 98.79%]  \n",
      "////Epoch elapsed time: 19.947614908218384////\n",
      "\n",
      "Train Epoch: 4 [0/60000 (0%) / Learning rate:1e-05]\tLoss:0.019523  \n",
      "Train Epoch: 4 [51200/60000 (85%) / Learning rate:1e-05]\tLoss:0.010862  \n",
      "Train Epoch: 4 [Test Loss: 0.03136105  /  Test accruacy: 98.98%]  \n",
      "////Epoch elapsed time: 18.56813383102417////\n",
      "\n",
      "Train Epoch: 5 [0/60000 (0%) / Learning rate:1e-05]\tLoss:0.022032  \n",
      "Train Epoch: 5 [51200/60000 (85%) / Learning rate:1e-05]\tLoss:0.033970  \n",
      "Train Epoch: 5 [Test Loss: 0.03318305  /  Test accruacy: 98.87%]  \n",
      "////Epoch elapsed time: 18.137351751327515////\n",
      "\n",
      "Train Epoch: 6 [0/60000 (0%) / Learning rate:1e-05]\tLoss:0.024050  \n",
      "Train Epoch: 6 [51200/60000 (85%) / Learning rate:1e-05]\tLoss:0.043588  \n",
      "Train Epoch: 6 [Test Loss: 0.03185156  /  Test accruacy: 99.05%]  \n",
      "////Epoch elapsed time: 19.046018838882446////\n",
      "\n",
      "Train Epoch: 7 [0/60000 (0%) / Learning rate:1e-05]\tLoss:0.023749  \n",
      "Train Epoch: 7 [51200/60000 (85%) / Learning rate:1e-05]\tLoss:0.024430  \n",
      "Train Epoch: 7 [Test Loss: 0.03041145  /  Test accruacy: 99.05%]  \n",
      "////Epoch elapsed time: 18.67384171485901////\n",
      "\n",
      "Train Epoch: 8 [0/60000 (0%) / Learning rate:1e-05]\tLoss:0.025732  \n",
      "Train Epoch: 8 [51200/60000 (85%) / Learning rate:1e-05]\tLoss:0.050488  \n",
      "Train Epoch: 8 [Test Loss: 0.03191973  /  Test accruacy: 99.06%]  \n",
      "////Epoch elapsed time: 18.220075130462646////\n",
      "\n",
      "Train Epoch: 9 [0/60000 (0%) / Learning rate:1e-05]\tLoss:0.017745  \n",
      "Train Epoch: 9 [51200/60000 (85%) / Learning rate:1e-05]\tLoss:0.036767  \n",
      "Train Epoch: 9 [Test Loss: 0.03097025  /  Test accruacy: 98.98%]  \n",
      "////Epoch elapsed time: 18.246958255767822////\n",
      "\n",
      "Train Epoch: 10 [0/60000 (0%) / Learning rate:1e-05]\tLoss:0.057832  \n",
      "Train Epoch: 10 [51200/60000 (85%) / Learning rate:1e-05]\tLoss:0.011024  \n",
      "Train Epoch: 10 [Test Loss: 0.03135936  /  Test accruacy: 98.88%]  \n",
      "////Epoch elapsed time: 18.674638032913208////\n",
      "\n",
      "Train Epoch: 11 [0/60000 (0%) / Learning rate:1e-05]\tLoss:0.023372  \n",
      "Train Epoch: 11 [51200/60000 (85%) / Learning rate:1e-05]\tLoss:0.008282  \n",
      "Train Epoch: 11 [Test Loss: 0.03327686  /  Test accruacy: 98.87%]  \n",
      "////Epoch elapsed time: 18.804900884628296////\n",
      "\n",
      "Train Epoch: 12 [0/60000 (0%) / Learning rate:1e-05]\tLoss:0.029741  \n",
      "Train Epoch: 12 [51200/60000 (85%) / Learning rate:1e-05]\tLoss:0.015500  \n",
      "Train Epoch: 12 [Test Loss: 0.03270522  /  Test accruacy: 99.02%]  \n",
      "////Epoch elapsed time: 18.967937707901////\n",
      "\n",
      "Train Epoch: 13 [0/60000 (0%) / Learning rate:1e-05]\tLoss:0.017266  \n",
      "Train Epoch: 13 [51200/60000 (85%) / Learning rate:1e-05]\tLoss:0.045709  \n",
      "Train Epoch: 13 [Test Loss: 0.03285039  /  Test accruacy: 98.97%]  \n",
      "////Epoch elapsed time: 18.742862224578857////\n",
      "\n",
      "Train Epoch: 14 [0/60000 (0%) / Learning rate:1e-05]\tLoss:0.016741  \n",
      "Train Epoch: 14 [51200/60000 (85%) / Learning rate:1e-05]\tLoss:0.029668  \n",
      "Train Epoch: 14 [Test Loss: 0.03697436  /  Test accruacy: 98.90%]  \n",
      "////Epoch elapsed time: 18.880059957504272////\n",
      "\n",
      "Train Epoch: 15 [0/60000 (0%) / Learning rate:1e-05]\tLoss:0.027815  \n",
      "Train Epoch: 15 [51200/60000 (85%) / Learning rate:1e-05]\tLoss:0.014607  \n",
      "Train Epoch: 15 [Test Loss: 0.03518886  /  Test accruacy: 98.99%]  \n",
      "////Epoch elapsed time: 19.191864252090454////\n",
      "\n",
      "Train Epoch: 16 [0/60000 (0%) / Learning rate:1.0000000000000002e-06]\tLoss:0.022533  \n",
      "Train Epoch: 16 [51200/60000 (85%) / Learning rate:1.0000000000000002e-06]\tLoss:0.029297  \n",
      "Train Epoch: 16 [Test Loss: 0.03176008  /  Test accruacy: 99.03%]  \n",
      "////Epoch elapsed time: 19.017168045043945////\n",
      "\n",
      "Train Epoch: 17 [0/60000 (0%) / Learning rate:1.0000000000000002e-06]\tLoss:0.027739  \n",
      "Train Epoch: 17 [51200/60000 (85%) / Learning rate:1.0000000000000002e-06]\tLoss:0.057086  \n",
      "Train Epoch: 17 [Test Loss: 0.03489704  /  Test accruacy: 98.95%]  \n",
      "////Epoch elapsed time: 18.58544421195984////\n",
      "\n",
      "Train Epoch: 18 [0/60000 (0%) / Learning rate:1.0000000000000002e-06]\tLoss:0.057917  \n",
      "Train Epoch: 18 [51200/60000 (85%) / Learning rate:1.0000000000000002e-06]\tLoss:0.028523  \n",
      "Train Epoch: 18 [Test Loss: 0.03309236  /  Test accruacy: 98.92%]  \n",
      "////Epoch elapsed time: 19.26087260246277////\n",
      "\n",
      "Train Epoch: 19 [0/60000 (0%) / Learning rate:1.0000000000000002e-06]\tLoss:0.024498  \n",
      "Train Epoch: 19 [51200/60000 (85%) / Learning rate:1.0000000000000002e-06]\tLoss:0.028188  \n",
      "Train Epoch: 19 [Test Loss: 0.03670179  /  Test accruacy: 98.88%]  \n",
      "////Epoch elapsed time: 19.84748601913452////\n",
      "\n",
      "Train Epoch: 20 [0/60000 (0%) / Learning rate:1.0000000000000002e-06]\tLoss:0.011943  \n",
      "Train Epoch: 20 [51200/60000 (85%) / Learning rate:1.0000000000000002e-06]\tLoss:0.022423  \n",
      "Train Epoch: 20 [Test Loss: 0.03141655  /  Test accruacy: 99.04%]  \n",
      "////Epoch elapsed time: 18.33149552345276////\n",
      "\n",
      "Train Epoch: 21 [0/60000 (0%) / Learning rate:1.0000000000000002e-06]\tLoss:0.021840  \n",
      "Train Epoch: 21 [51200/60000 (85%) / Learning rate:1.0000000000000002e-06]\tLoss:0.062257  \n",
      "Train Epoch: 21 [Test Loss: 0.03026451  /  Test accruacy: 99.05%]  \n",
      "////Epoch elapsed time: 18.503489017486572////\n",
      "\n",
      "Train Epoch: 22 [0/60000 (0%) / Learning rate:1.0000000000000002e-06]\tLoss:0.034547  \n",
      "Train Epoch: 22 [51200/60000 (85%) / Learning rate:1.0000000000000002e-06]\tLoss:0.013637  \n",
      "Train Epoch: 22 [Test Loss: 0.03202792  /  Test accruacy: 98.99%]  \n",
      "////Epoch elapsed time: 19.405307292938232////\n",
      "\n",
      "Train Epoch: 23 [0/60000 (0%) / Learning rate:1.0000000000000002e-07]\tLoss:0.049375  \n",
      "Train Epoch: 23 [51200/60000 (85%) / Learning rate:1.0000000000000002e-07]\tLoss:0.023359  \n",
      "Train Epoch: 23 [Test Loss: 0.03240271  /  Test accruacy: 99.05%]  \n",
      "////Epoch elapsed time: 18.54044532775879////\n",
      "\n",
      "Train Epoch: 24 [0/60000 (0%) / Learning rate:1.0000000000000002e-07]\tLoss:0.015431  \n",
      "Train Epoch: 24 [51200/60000 (85%) / Learning rate:1.0000000000000002e-07]\tLoss:0.014709  \n",
      "Train Epoch: 24 [Test Loss: 0.03238232  /  Test accruacy: 98.90%]  \n",
      "////Epoch elapsed time: 19.04521608352661////\n",
      "\n",
      "Train Epoch: 25 [0/60000 (0%) / Learning rate:1.0000000000000002e-07]\tLoss:0.016967  \n",
      "Train Epoch: 25 [51200/60000 (85%) / Learning rate:1.0000000000000002e-07]\tLoss:0.016096  \n",
      "Train Epoch: 25 [Test Loss: 0.03002428  /  Test accruacy: 99.08%]  \n",
      "////Epoch elapsed time: 20.15874218940735////\n",
      "\n",
      "Train Epoch: 26 [0/60000 (0%) / Learning rate:1.0000000000000002e-07]\tLoss:0.019378  \n",
      "Train Epoch: 26 [51200/60000 (85%) / Learning rate:1.0000000000000002e-07]\tLoss:0.003712  \n",
      "Train Epoch: 26 [Test Loss: 0.03511931  /  Test accruacy: 98.91%]  \n",
      "////Epoch elapsed time: 18.73430109024048////\n",
      "\n",
      "Train Epoch: 27 [0/60000 (0%) / Learning rate:1.0000000000000002e-07]\tLoss:0.028323  \n",
      "Train Epoch: 27 [51200/60000 (85%) / Learning rate:1.0000000000000002e-07]\tLoss:0.019686  \n",
      "Train Epoch: 27 [Test Loss: 0.03474904  /  Test accruacy: 98.83%]  \n",
      "////Epoch elapsed time: 19.71892738342285////\n",
      "\n",
      "Train Epoch: 28 [0/60000 (0%) / Learning rate:1.0000000000000002e-07]\tLoss:0.015403  \n",
      "Train Epoch: 28 [51200/60000 (85%) / Learning rate:1.0000000000000002e-07]\tLoss:0.004650  \n",
      "Train Epoch: 28 [Test Loss: 0.03412147  /  Test accruacy: 98.98%]  \n",
      "////Epoch elapsed time: 19.21530246734619////\n",
      "\n",
      "Train Epoch: 29 [0/60000 (0%) / Learning rate:1.0000000000000002e-07]\tLoss:0.045118  \n",
      "Train Epoch: 29 [51200/60000 (85%) / Learning rate:1.0000000000000002e-07]\tLoss:0.042325  \n",
      "Train Epoch: 29 [Test Loss: 0.03149355  /  Test accruacy: 98.96%]  \n",
      "////Epoch elapsed time: 19.62938141822815////\n",
      "\n",
      "Train Epoch: 30 [0/60000 (0%) / Learning rate:1.0000000000000002e-07]\tLoss:0.012831  \n",
      "Train Epoch: 30 [51200/60000 (85%) / Learning rate:1.0000000000000002e-07]\tLoss:0.020468  \n",
      "Train Epoch: 30 [Test Loss: 0.03234495  /  Test accruacy: 98.96%]  \n",
      "////Epoch elapsed time: 19.861132621765137////\n",
      "\n",
      "Train Epoch: 31 [0/60000 (0%) / Learning rate:1.0000000000000002e-07]\tLoss:0.030094  \n",
      "Train Epoch: 31 [51200/60000 (85%) / Learning rate:1.0000000000000002e-07]\tLoss:0.023153  \n",
      "Train Epoch: 31 [Test Loss: 0.03197793  /  Test accruacy: 98.97%]  \n",
      "////Epoch elapsed time: 19.039551258087158////\n",
      "\n",
      "Train Epoch: 32 [0/60000 (0%) / Learning rate:1.0000000000000002e-07]\tLoss:0.015997  \n",
      "Train Epoch: 32 [51200/60000 (85%) / Learning rate:1.0000000000000002e-07]\tLoss:0.026517  \n",
      "Train Epoch: 32 [Test Loss: 0.03348305  /  Test accruacy: 98.94%]  \n",
      "////Epoch elapsed time: 19.44700264930725////\n",
      "\n",
      "Train Epoch: 33 [0/60000 (0%) / Learning rate:1.0000000000000004e-08]\tLoss:0.017586  \n",
      "Train Epoch: 33 [51200/60000 (85%) / Learning rate:1.0000000000000004e-08]\tLoss:0.025647  \n",
      "Train Epoch: 33 [Test Loss: 0.03559978  /  Test accruacy: 98.83%]  \n",
      "////Epoch elapsed time: 19.28810477256775////\n",
      "\n",
      "Train Epoch: 34 [0/60000 (0%) / Learning rate:1.0000000000000004e-08]\tLoss:0.030447  \n",
      "Train Epoch: 34 [51200/60000 (85%) / Learning rate:1.0000000000000004e-08]\tLoss:0.030757  \n",
      "Train Epoch: 34 [Test Loss: 0.03181373  /  Test accruacy: 98.97%]  \n",
      "////Epoch elapsed time: 18.374717473983765////\n",
      "\n",
      "Train Epoch: 35 [0/60000 (0%) / Learning rate:1.0000000000000004e-08]\tLoss:0.016424  \n",
      "Train Epoch: 35 [51200/60000 (85%) / Learning rate:1.0000000000000004e-08]\tLoss:0.024615  \n",
      "Train Epoch: 35 [Test Loss: 0.03113965  /  Test accruacy: 99.04%]  \n",
      "////Epoch elapsed time: 19.514168739318848////\n",
      "\n",
      "Train Epoch: 36 [0/60000 (0%) / Learning rate:1.0000000000000004e-08]\tLoss:0.036159  \n",
      "Train Epoch: 36 [51200/60000 (85%) / Learning rate:1.0000000000000004e-08]\tLoss:0.062805  \n",
      "Train Epoch: 36 [Test Loss: 0.02957349  /  Test accruacy: 99.00%]  \n",
      "////Epoch elapsed time: 19.193029642105103////\n",
      "\n",
      "Train Epoch: 37 [0/60000 (0%) / Learning rate:1.0000000000000004e-08]\tLoss:0.020889  \n",
      "Train Epoch: 37 [51200/60000 (85%) / Learning rate:1.0000000000000004e-08]\tLoss:0.014315  \n",
      "Train Epoch: 37 [Test Loss: 0.03367708  /  Test accruacy: 99.02%]  \n",
      "////Epoch elapsed time: 20.3146653175354////\n",
      "\n",
      "Train Epoch: 38 [0/60000 (0%) / Learning rate:1.0000000000000004e-08]\tLoss:0.012615  \n",
      "Train Epoch: 38 [51200/60000 (85%) / Learning rate:1.0000000000000004e-08]\tLoss:0.039879  \n",
      "Train Epoch: 38 [Test Loss: 0.03601341  /  Test accruacy: 98.89%]  \n",
      "////Epoch elapsed time: 18.24354839324951////\n",
      "\n",
      "Train Epoch: 39 [0/60000 (0%) / Learning rate:1.0000000000000004e-08]\tLoss:0.037246  \n",
      "Train Epoch: 39 [51200/60000 (85%) / Learning rate:1.0000000000000004e-08]\tLoss:0.014452  \n",
      "Train Epoch: 39 [Test Loss: 0.03285489  /  Test accruacy: 98.89%]  \n",
      "////Epoch elapsed time: 19.021507024765015////\n",
      "\n",
      "Train Epoch: 40 [0/60000 (0%) / Learning rate:1.0000000000000004e-08]\tLoss:0.018450  \n",
      "Train Epoch: 40 [51200/60000 (85%) / Learning rate:1.0000000000000004e-08]\tLoss:0.007147  \n",
      "Train Epoch: 40 [Test Loss: 0.03283662  /  Test accruacy: 99.08%]  \n",
      "////Epoch elapsed time: 19.898448705673218////\n",
      "\n",
      "Train Epoch: 41 [0/60000 (0%) / Learning rate:1.0000000000000004e-08]\tLoss:0.007296  \n",
      "Train Epoch: 41 [51200/60000 (85%) / Learning rate:1.0000000000000004e-08]\tLoss:0.078105  \n",
      "Train Epoch: 41 [Test Loss: 0.03610756  /  Test accruacy: 98.92%]  \n",
      "////Epoch elapsed time: 19.778074264526367////\n",
      "\n",
      "Train Epoch: 42 [0/60000 (0%) / Learning rate:1.0000000000000004e-08]\tLoss:0.016221  \n",
      "Train Epoch: 42 [51200/60000 (85%) / Learning rate:1.0000000000000004e-08]\tLoss:0.008853  \n",
      "Train Epoch: 42 [Test Loss: 0.02935868  /  Test accruacy: 99.11%]  \n",
      "////Epoch elapsed time: 18.80769181251526////\n",
      "\n",
      "Train Epoch: 43 [0/60000 (0%) / Learning rate:1.0000000000000004e-08]\tLoss:0.054093  \n",
      "Train Epoch: 43 [51200/60000 (85%) / Learning rate:1.0000000000000004e-08]\tLoss:0.011178  \n",
      "Train Epoch: 43 [Test Loss: 0.03304785  /  Test accruacy: 98.96%]  \n",
      "////Epoch elapsed time: 18.583316326141357////\n",
      "\n",
      "Train Epoch: 44 [0/60000 (0%) / Learning rate:1.0000000000000004e-08]\tLoss:0.021846  \n",
      "Train Epoch: 44 [51200/60000 (85%) / Learning rate:1.0000000000000004e-08]\tLoss:0.008175  \n",
      "Train Epoch: 44 [Test Loss: 0.03432102  /  Test accruacy: 99.01%]  \n",
      "////Epoch elapsed time: 19.73260521888733////\n",
      "\n",
      "Train Epoch: 45 [0/60000 (0%) / Learning rate:1.0000000000000004e-08]\tLoss:0.037127  \n",
      "Train Epoch: 45 [51200/60000 (85%) / Learning rate:1.0000000000000004e-08]\tLoss:0.059647  \n",
      "Train Epoch: 45 [Test Loss: 0.03358233  /  Test accruacy: 98.99%]  \n",
      "////Epoch elapsed time: 18.986438989639282////\n",
      "\n",
      "Train Epoch: 46 [0/60000 (0%) / Learning rate:1.0000000000000004e-08]\tLoss:0.027288  \n",
      "Train Epoch: 46 [51200/60000 (85%) / Learning rate:1.0000000000000004e-08]\tLoss:0.028344  \n",
      "Train Epoch: 46 [Test Loss: 0.03569062  /  Test accruacy: 98.80%]  \n",
      "////Epoch elapsed time: 19.200451850891113////\n",
      "\n",
      "Train Epoch: 47 [0/60000 (0%) / Learning rate:1.0000000000000004e-08]\tLoss:0.007021  \n",
      "Train Epoch: 47 [51200/60000 (85%) / Learning rate:1.0000000000000004e-08]\tLoss:0.054924  \n",
      "Train Epoch: 47 [Test Loss: 0.03185417  /  Test accruacy: 98.95%]  \n",
      "////Epoch elapsed time: 18.52731704711914////\n",
      "\n",
      "Train Epoch: 48 [0/60000 (0%) / Learning rate:1.0000000000000004e-08]\tLoss:0.009637  \n",
      "Train Epoch: 48 [51200/60000 (85%) / Learning rate:1.0000000000000004e-08]\tLoss:0.027616  \n",
      "Train Epoch: 48 [Test Loss: 0.02812004  /  Test accruacy: 99.14%]  \n",
      "////Epoch elapsed time: 18.513859272003174////\n",
      "\n",
      "Train Epoch: 49 [0/60000 (0%) / Learning rate:1.0000000000000004e-08]\tLoss:0.021473  \n",
      "Train Epoch: 49 [51200/60000 (85%) / Learning rate:1.0000000000000004e-08]\tLoss:0.013978  \n",
      "Train Epoch: 49 [Test Loss: 0.03328954  /  Test accruacy: 98.95%]  \n",
      "////Epoch elapsed time: 18.474064826965332////\n",
      "\n",
      "Train Epoch: 50 [0/60000 (0%) / Learning rate:1.0000000000000004e-08]\tLoss:0.020873  \n",
      "Train Epoch: 50 [51200/60000 (85%) / Learning rate:1.0000000000000004e-08]\tLoss:0.034405  \n",
      "Train Epoch: 50 [Test Loss: 0.03563135  /  Test accruacy: 98.80%]  \n",
      "////Epoch elapsed time: 18.579039335250854////\n",
      "\n",
      "Train Epoch: 51 [0/60000 (0%) / Learning rate:1.0000000000000004e-08]\tLoss:0.014494  \n",
      "Train Epoch: 51 [51200/60000 (85%) / Learning rate:1.0000000000000004e-08]\tLoss:0.035017  \n",
      "Train Epoch: 51 [Test Loss: 0.03095134  /  Test accruacy: 98.91%]  \n",
      "////Epoch elapsed time: 19.18198871612549////\n",
      "\n",
      "Train Epoch: 52 [0/60000 (0%) / Learning rate:1.0000000000000004e-08]\tLoss:0.077494  \n",
      "Train Epoch: 52 [51200/60000 (85%) / Learning rate:1.0000000000000004e-08]\tLoss:0.029620  \n",
      "Train Epoch: 52 [Test Loss: 0.03295252  /  Test accruacy: 98.94%]  \n",
      "////Epoch elapsed time: 20.110780954360962////\n",
      "\n",
      "Train Epoch: 53 [0/60000 (0%) / Learning rate:1.0000000000000004e-08]\tLoss:0.015937  \n",
      "Train Epoch: 53 [51200/60000 (85%) / Learning rate:1.0000000000000004e-08]\tLoss:0.042193  \n",
      "Train Epoch: 53 [Test Loss: 0.03063720  /  Test accruacy: 98.97%]  \n",
      "////Epoch elapsed time: 18.649978399276733////\n",
      "\n",
      "Train Epoch: 54 [0/60000 (0%) / Learning rate:1.0000000000000004e-08]\tLoss:0.015704  \n",
      "Train Epoch: 54 [51200/60000 (85%) / Learning rate:1.0000000000000004e-08]\tLoss:0.010087  \n",
      "Train Epoch: 54 [Test Loss: 0.03535708  /  Test accruacy: 98.86%]  \n",
      "////Epoch elapsed time: 20.093422412872314////\n",
      "\n",
      "Train Epoch: 55 [0/60000 (0%) / Learning rate:1.0000000000000004e-08]\tLoss:0.013248  \n",
      "Train Epoch: 55 [51200/60000 (85%) / Learning rate:1.0000000000000004e-08]\tLoss:0.070120  \n",
      "Train Epoch: 55 [Test Loss: 0.02983920  /  Test accruacy: 99.03%]  \n",
      "////Epoch elapsed time: 19.976551055908203////\n",
      "\n",
      "Train Epoch: 56 [0/60000 (0%) / Learning rate:1.0000000000000004e-08]\tLoss:0.015012  \n",
      "Train Epoch: 56 [51200/60000 (85%) / Learning rate:1.0000000000000004e-08]\tLoss:0.040845  \n",
      "Train Epoch: 56 [Test Loss: 0.03303214  /  Test accruacy: 98.91%]  \n",
      "////Epoch elapsed time: 18.61008310317993////\n",
      "\n",
      "Train Epoch: 57 [0/60000 (0%) / Learning rate:1.0000000000000004e-08]\tLoss:0.017125  \n",
      "Train Epoch: 57 [51200/60000 (85%) / Learning rate:1.0000000000000004e-08]\tLoss:0.038410  \n",
      "Train Epoch: 57 [Test Loss: 0.02972481  /  Test accruacy: 99.00%]  \n",
      "////Epoch elapsed time: 19.333497762680054////\n",
      "\n",
      "Train Epoch: 58 [0/60000 (0%) / Learning rate:1.0000000000000004e-08]\tLoss:0.028604  \n",
      "Train Epoch: 58 [51200/60000 (85%) / Learning rate:1.0000000000000004e-08]\tLoss:0.007792  \n",
      "Train Epoch: 58 [Test Loss: 0.03353852  /  Test accruacy: 99.03%]  \n",
      "////Epoch elapsed time: 19.553967714309692////\n",
      "\n",
      "Train Epoch: 59 [0/60000 (0%) / Learning rate:1.0000000000000004e-08]\tLoss:0.037044  \n",
      "Train Epoch: 59 [51200/60000 (85%) / Learning rate:1.0000000000000004e-08]\tLoss:0.067530  \n",
      "Train Epoch: 59 [Test Loss: 0.03182181  /  Test accruacy: 99.00%]  \n",
      "////Epoch elapsed time: 18.36347270011902////\n",
      "\n"
     ]
    }
   ],
   "source": [
    "print('STEP 6: INSTANTIATE LOSS CLASS')\n",
    "#############\n",
    "# CODE HERE #\n",
    "#############\n",
    "\n",
    "\n",
    "# Loss\n",
    "criterion = nn.CrossEntropyLoss()\n",
    "\n",
    "# Model to GPU\n",
    "model.to(device0)\n",
    "\n",
    "print('STEP 7: TRAIN THE MODEL')\n",
    "best_acc = 0\n",
    "\n",
    "for epoch in range(num_epoch):\n",
    "    #TRAIN\n",
    "    model.train()\n",
    "    start = time.time()\n",
    "    \n",
    "    for j,(img,label) in enumerate(train_loader):\n",
    "        \n",
    "        #############\n",
    "        # CODE HERE #\n",
    "        #############\n",
    "        img, label = img.to(device0), label.to(device0)\n",
    "        \n",
    "        optimizer.zero_grad()\n",
    "        \n",
    "        pred = model(img)\n",
    "        \n",
    "        loss = criterion(pred, label)\n",
    "        \n",
    "        loss.backward()\n",
    "        \n",
    "        optimizer.step()\n",
    "        \n",
    "        if j % 200 == 0:\n",
    "            \n",
    "            print('Train Epoch: {} [{}/{} ({:.0f}%) / Learning rate:{}]\\tLoss:{:.6f}  '.format(\n",
    "                    epoch, j * len(img), train_size,\n",
    "                    100. * j / len(train_loader),get_lr(optimizer), loss.item()))\n",
    "            \n",
    "           \n",
    "                    \n",
    "    #Test\n",
    "    model.eval()\n",
    "    #############\n",
    "    # CODE HERE #\n",
    "    #############\n",
    "    # accuracy for whole data\n",
    "    total_num = 0\n",
    "    correct_num = 0\n",
    "    loss_test = []\n",
    "    with torch.no_grad():        \n",
    "        for j, (img, label) in enumerate(test_loader):\n",
    "            img, label = img.to(device0), label.to(device0)\n",
    "\n",
    "            pred = model(img)\n",
    "            loss_test.append(criterion(pred, label))\n",
    "            \n",
    "            total_num += len(img) \n",
    "            correct_num += (label == pred.max(1).indices).sum()\n",
    "    # test accuracy\n",
    "    accuracy = 100*correct_num / total_num\n",
    "    \n",
    "    print('Train Epoch: {} [Test Loss: {:.8f}  /  Test accruacy: {:.2f}%]  '.format(epoch, sum(loss_test)/len(loss_test),accuracy ))   \n",
    "    print('////Epoch elapsed time: {}////\\n'.format(time.time() - start))  \n",
    "    \n",
    "    \n",
    "    if accuracy > best_acc :\n",
    "        torch.save({\n",
    "            'epoch': epoch,\n",
    "            'model_state_dict': model.state_dict(),\n",
    "            'optimizer_state_dict': optimizer.state_dict(),\n",
    "            'loss': loss,\n",
    "            'accuracy': accuracy\n",
    "            \n",
    "            }, './weights/lab04/best_model_STN.tar')\n",
    "       \n",
    "        best_acc = accuracy\n",
    "    \n",
    "    scheduler.step(accuracy)"
   ]
  },
  {
   "cell_type": "markdown",
   "metadata": {
    "colab_type": "text",
    "id": "yhPP8ATu2OXg"
   },
   "source": [
    "### 4. Visualize original inputs and transformed inputs with best pre-trained model  [3points]\n"
   ]
  },
  {
   "cell_type": "code",
   "execution_count": 7,
   "metadata": {
    "colab": {},
    "colab_type": "code",
    "id": "aZj6oLi62OXi"
   },
   "outputs": [
    {
     "data": {
      "text/plain": [
       "<All keys matched successfully>"
      ]
     },
     "execution_count": 7,
     "metadata": {},
     "output_type": "execute_result"
    }
   ],
   "source": [
    "model = STN_CNN()\n",
    "checkpoint = torch.load('./weights/lab04/best_model_STN.tar')\n",
    "model.load_state_dict(checkpoint['model_state_dict'])"
   ]
  },
  {
   "cell_type": "markdown",
   "metadata": {
    "colab_type": "text",
    "id": "h6WD4pCv2OXk"
   },
   "source": [
    "#### Our pretrained model's best accuracy\n"
   ]
  },
  {
   "cell_type": "code",
   "execution_count": 8,
   "metadata": {
    "colab": {},
    "colab_type": "code",
    "id": "UB4GmH2g2OXl",
    "outputId": "83e334ed-b093-4d82-d0be-c29ad5c4ee29"
   },
   "outputs": [
    {
     "name": "stdout",
     "output_type": "stream",
     "text": [
      "Best accuracy of our model with ST module:  tensor(99.1386, device='cuda:0')\n"
     ]
    }
   ],
   "source": [
    "print('Best accuracy of our model with ST module: ', checkpoint['accuracy'])"
   ]
  },
  {
   "cell_type": "code",
   "execution_count": 365,
   "metadata": {
    "colab": {},
    "colab_type": "code",
    "id": "3F5ppqXP2OXr"
   },
   "outputs": [],
   "source": [
    "# Tensor image to array image\n",
    "def reprocess_image(img):\n",
    "    \n",
    "    img_re = copy.copy(img.cpu().data.numpy())\n",
    "    \n",
    "    mean = [-0.1307,-0.1307,-0.1307]\n",
    "    std = [1/0.3081,1/0.3081,1/0.3081]\n",
    "    \n",
    "    for c in range(3):\n",
    "        img_re[c,:,:] /= std[c]\n",
    "        img_re[c,:,:] -= mean[c]\n",
    "        \n",
    "    img_re[img_re > 1] = 1\n",
    "    img_re[img_re < 0] = 0\n",
    "    \n",
    "    img_re = img_re.transpose(1,2,0)\n",
    "\n",
    "    return img_re"
   ]
  },
  {
   "cell_type": "markdown",
   "metadata": {
    "colab_type": "text",
    "id": "suci-kWM2OXt"
   },
   "source": [
    "#### 4.1 Write codes for visualization of original inputsa and transformed inputs [3 points]\n",
    ">- VisualizeSTN class with an input of our pretrained model\n",
    ">- *forward_stn*: Forward pass of our pretrained STN module to produce transformed inputs\n",
    ">- *visualize*: Visualizing the original inputs and the transformed ones in a grid \n",
    ">>1. Forward pass of STN module to produce the transformed inputs\n",
    ">>2. Unnormalize both images using *reprocess_image* function\n",
    ">>3. Make grids of them \n",
    ">>4. Visualize \n"
   ]
  },
  {
   "cell_type": "code",
   "execution_count": 366,
   "metadata": {},
   "outputs": [],
   "source": [
    "class VisualizeSTN():\n",
    "    def __init__(self, model):\n",
    "        self.model = model\n",
    "        self.model.to(device0)\n",
    "        self.model.eval()\n",
    "    \n",
    "    # Output transformed inputs\n",
    "    def forward_stn(self,x):\n",
    "        #############\n",
    "        # CODE HERE #\n",
    "        #############\n",
    "        return model.ST_module(x)\n",
    "        \n",
    "    def visualize(self, img):\n",
    "        #############\n",
    "        # CODE HERE #\n",
    "        #############\n",
    "        # transformed image\n",
    "        img_st = self.forward_stn(img)\n",
    "#         img, img_st = reprocess_image(img), reprocess_image(img_st)\n",
    "        # Image- Grid\n",
    "        row = []\n",
    "        row_st = []\n",
    "        # concate in axis = 0 direction\n",
    "        for i in range(4):\n",
    "            # original image\n",
    "            img_split = reprocess_image(img[4*i:4*i+4].squeeze(1))\n",
    "            row.append(np.concatenate((img_split[:,:,0],img_split[:,:,1],img_split[:,:,2],img_split[:,:,3]),axis=0))\n",
    "            # transformed image\n",
    "            img_st_split = reprocess_image(img_st[4*i:4*i+4].squeeze(1))\n",
    "            row_st.append(np.concatenate((img_st_split[:,:,0],img_st_split[:,:,1],img_st_split[:,:,2],img_st_split[:,:,3]),axis=0))\n",
    "        # concate in axis=1 direction\n",
    "        img_grid = np.concatenate((row[0],row[1],row[2],row[3]),axis=1)\n",
    "        img_st_grid = np.concatenate((row_st[0],row_st[1],row_st[2],row_st[3]), axis =1)\n",
    "        \n",
    "        \n",
    "        # Display Image-Grid \n",
    "        fig, ax = plt.subplots(1,2,figsize=(10,10))\n",
    "        ax[0].imshow(img_grid,cmap = 'gray')\n",
    "        ax[0].set_title(\"Original Images\")\n",
    "\n",
    "        ax[1].imshow(img_st_grid, cmap = 'gray')\n",
    "        ax[1].set_title(\"Transformed Images\")\n",
    "        "
   ]
  },
  {
   "cell_type": "code",
   "execution_count": 367,
   "metadata": {
    "colab": {},
    "colab_type": "code",
    "id": "-mkGExZk2OXx",
    "outputId": "b34b0bc7-6b72-407d-a7d1-868e3cbc1aaf"
   },
   "outputs": [
    {
     "data": {
      "image/png": "[encoded data removed]",
      "text/plain": [
       "<Figure size 720x720 with 2 Axes>"
      ]
     },
     "metadata": {
      "needs_background": "light"
     },
     "output_type": "display_data"
    },
    {
     "data": {
      "image/png": "[encoded data removed]",
      "text/plain": [
       "<Figure size 720x720 with 2 Axes>"
      ]
     },
     "metadata": {
      "needs_background": "light"
     },
     "output_type": "display_data"
    },
    {
     "data": {
      "image/png": "[encoded data removed]",
      "text/plain": [
       "<Figure size 720x720 with 2 Axes>"
      ]
     },
     "metadata": {
      "needs_background": "light"
     },
     "output_type": "display_data"
    }
   ],
   "source": [
    "visualize_stn = VisualizeSTN(model)\n",
    "for i, (image,label) in enumerate(test_loader):\n",
    "    \n",
    "    img = image[:16].to(device0)\n",
    "    visualize_stn.visualize(img)\n",
    "    \n",
    "    if (i+1) == 3:\n",
    "        break"
   ]
  },
  {
   "cell_type": "markdown",
   "metadata": {
    "colab_type": "text",
    "id": "HEjhSogi2OX0"
   },
   "source": [
    "### 5.Comparison with the cnn model without ST module [1point]\n",
    ">- Model composed of cnn and classifier modules same with our pretrained CNN_STN model \n",
    ">- Use *cnn* and *classifier* modules you implemented \n"
   ]
  },
  {
   "cell_type": "markdown",
   "metadata": {
    "colab_type": "text",
    "id": "pecTLkVL2OX0"
   },
   "source": [
    "#### 5.1 Write codes for the model class"
   ]
  },
  {
   "cell_type": "code",
   "execution_count": 372,
   "metadata": {},
   "outputs": [],
   "source": [
    "#############\n",
    "# CODE HERE #\n",
    "#############\n",
    "# deep copy for pretrained layer assignment\n",
    "import copy\n",
    "\n",
    "class CNN(nn.Module):\n",
    "    def __init__(self):\n",
    "        super(CNN,self).__init__()\n",
    "        \n",
    "        self.cnn = copy.deepcopy(model.cnn)\n",
    "        \n",
    "        self.classifier = copy.deepcopy(model.classifier)\n",
    "        \n",
    "    def forward(self,x):\n",
    "        out = self.cnn(x).view(-1,1600)\n",
    "        out = self.classifier(out)\n",
    "        return out"
   ]
  },
  {
   "cell_type": "code",
   "execution_count": 373,
   "metadata": {
    "colab": {},
    "colab_type": "code",
    "id": "M0dtTNMV2OX4",
    "outputId": "a6c0f479-8a8c-425b-ae7d-ca71e688e5be"
   },
   "outputs": [
    {
     "name": "stdout",
     "output_type": "stream",
     "text": [
      "CNN's state_dict:\n",
      "cnn.1.weight \t torch.Size([32, 1, 9, 9])\n",
      "cnn.1.bias \t torch.Size([32])\n",
      "cnn.4.weight \t torch.Size([64, 32, 7, 7])\n",
      "cnn.4.bias \t torch.Size([64])\n",
      "classifier.0.weight \t torch.Size([128, 1600])\n",
      "classifier.0.bias \t torch.Size([128])\n",
      "classifier.2.weight \t torch.Size([10, 128])\n",
      "classifier.2.bias \t torch.Size([10])\n"
     ]
    }
   ],
   "source": [
    "model_nostn = CNN()\n",
    "\n",
    "print(\"CNN's state_dict:\")\n",
    "for param_tensor in model_nostn.state_dict():\n",
    "    print(param_tensor, \"\\t\", model_nostn.state_dict()[param_tensor].size())"
   ]
  },
  {
   "cell_type": "code",
   "execution_count": 376,
   "metadata": {
    "colab": {},
    "colab_type": "code",
    "id": "RTHfuIMJ2OX7"
   },
   "outputs": [],
   "source": [
    "optimizer = torch.optim.Adam(model_nostn.parameters(), lr=learning_rate)\n",
    "scheduler = optim.lr_scheduler.ReduceLROnPlateau(optimizer, mode='max', factor = 0.1, patience=6)\n",
    "\n",
    "def get_lr(optimizer):\n",
    "    for param_group in optimizer.param_groups:\n",
    "        return param_group['lr']"
   ]
  },
  {
   "cell_type": "markdown",
   "metadata": {
    "colab_type": "text",
    "id": "y-jXzO1Y2OX-",
    "tags": []
   },
   "source": [
    "#### 5.2 Train/Test"
   ]
  },
  {
   "cell_type": "code",
   "execution_count": 377,
   "metadata": {
    "scrolled": true
   },
   "outputs": [
    {
     "name": "stdout",
     "output_type": "stream",
     "text": [
      "STEP 7: TRAIN THE MODEL\n",
      "Train Epoch: 0 [0/60000 (0%) / Learning rate:0.001]\tLoss:2.263999  \n",
      "Train Epoch: 0 [51200/60000 (85%) / Learning rate:0.001]\tLoss:0.451728  \n",
      "Train Epoch: 0 [Test Loss: 0.35094655  /  Test accruacy: 88.68%]  \n",
      "////Epoch elapsed time: 18.857447385787964////\n",
      "\n",
      "Train Epoch: 1 [0/60000 (0%) / Learning rate:0.001]\tLoss:0.349551  \n",
      "Train Epoch: 1 [51200/60000 (85%) / Learning rate:0.001]\tLoss:0.305120  \n",
      "Train Epoch: 1 [Test Loss: 0.25825137  /  Test accruacy: 92.12%]  \n",
      "////Epoch elapsed time: 19.812896728515625////\n",
      "\n",
      "Train Epoch: 2 [0/60000 (0%) / Learning rate:0.001]\tLoss:0.282822  \n",
      "Train Epoch: 2 [51200/60000 (85%) / Learning rate:0.001]\tLoss:0.258529  \n",
      "Train Epoch: 2 [Test Loss: 0.20650043  /  Test accruacy: 93.34%]  \n",
      "////Epoch elapsed time: 18.896592378616333////\n",
      "\n",
      "Train Epoch: 3 [0/60000 (0%) / Learning rate:0.001]\tLoss:0.254688  \n",
      "Train Epoch: 3 [51200/60000 (85%) / Learning rate:0.001]\tLoss:0.193018  \n",
      "Train Epoch: 3 [Test Loss: 0.20380107  /  Test accruacy: 93.51%]  \n",
      "////Epoch elapsed time: 18.71426248550415////\n",
      "\n",
      "Train Epoch: 4 [0/60000 (0%) / Learning rate:0.001]\tLoss:0.229396  \n",
      "Train Epoch: 4 [51200/60000 (85%) / Learning rate:0.001]\tLoss:0.263914  \n",
      "Train Epoch: 4 [Test Loss: 0.17553213  /  Test accruacy: 94.37%]  \n",
      "////Epoch elapsed time: 19.997092485427856////\n",
      "\n",
      "Train Epoch: 5 [0/60000 (0%) / Learning rate:0.001]\tLoss:0.200089  \n",
      "Train Epoch: 5 [51200/60000 (85%) / Learning rate:0.001]\tLoss:0.191352  \n",
      "Train Epoch: 5 [Test Loss: 0.18054172  /  Test accruacy: 94.02%]  \n",
      "////Epoch elapsed time: 19.690215349197388////\n",
      "\n",
      "Train Epoch: 6 [0/60000 (0%) / Learning rate:0.001]\tLoss:0.169591  \n",
      "Train Epoch: 6 [51200/60000 (85%) / Learning rate:0.001]\tLoss:0.132089  \n",
      "Train Epoch: 6 [Test Loss: 0.17294674  /  Test accruacy: 94.46%]  \n",
      "////Epoch elapsed time: 18.6162588596344////\n",
      "\n",
      "Train Epoch: 7 [0/60000 (0%) / Learning rate:0.001]\tLoss:0.194482  \n",
      "Train Epoch: 7 [51200/60000 (85%) / Learning rate:0.001]\tLoss:0.163847  \n",
      "Train Epoch: 7 [Test Loss: 0.15192883  /  Test accruacy: 95.18%]  \n",
      "////Epoch elapsed time: 18.98768401145935////\n",
      "\n",
      "Train Epoch: 8 [0/60000 (0%) / Learning rate:0.001]\tLoss:0.148346  \n",
      "Train Epoch: 8 [51200/60000 (85%) / Learning rate:0.001]\tLoss:0.110739  \n",
      "Train Epoch: 8 [Test Loss: 0.14075673  /  Test accruacy: 95.25%]  \n",
      "////Epoch elapsed time: 19.173806190490723////\n",
      "\n",
      "Train Epoch: 9 [0/60000 (0%) / Learning rate:0.001]\tLoss:0.155136  \n",
      "Train Epoch: 9 [51200/60000 (85%) / Learning rate:0.001]\tLoss:0.124175  \n",
      "Train Epoch: 9 [Test Loss: 0.14506331  /  Test accruacy: 95.40%]  \n",
      "////Epoch elapsed time: 18.719590663909912////\n",
      "\n",
      "Train Epoch: 10 [0/60000 (0%) / Learning rate:0.001]\tLoss:0.201158  \n",
      "Train Epoch: 10 [51200/60000 (85%) / Learning rate:0.001]\tLoss:0.205075  \n",
      "Train Epoch: 10 [Test Loss: 0.14470261  /  Test accruacy: 95.53%]  \n",
      "////Epoch elapsed time: 19.515231370925903////\n",
      "\n",
      "Train Epoch: 11 [0/60000 (0%) / Learning rate:0.001]\tLoss:0.205763  \n",
      "Train Epoch: 11 [51200/60000 (85%) / Learning rate:0.001]\tLoss:0.154047  \n",
      "Train Epoch: 11 [Test Loss: 0.13560665  /  Test accruacy: 95.55%]  \n",
      "////Epoch elapsed time: 19.609345197677612////\n",
      "\n",
      "Train Epoch: 12 [0/60000 (0%) / Learning rate:0.001]\tLoss:0.141949  \n",
      "Train Epoch: 12 [51200/60000 (85%) / Learning rate:0.001]\tLoss:0.139554  \n",
      "Train Epoch: 12 [Test Loss: 0.15132007  /  Test accruacy: 95.40%]  \n",
      "////Epoch elapsed time: 18.62248206138611////\n",
      "\n",
      "Train Epoch: 13 [0/60000 (0%) / Learning rate:0.001]\tLoss:0.177857  \n",
      "Train Epoch: 13 [51200/60000 (85%) / Learning rate:0.001]\tLoss:0.132968  \n",
      "Train Epoch: 13 [Test Loss: 0.12888931  /  Test accruacy: 95.76%]  \n",
      "////Epoch elapsed time: 18.63717293739319////\n",
      "\n",
      "Train Epoch: 14 [0/60000 (0%) / Learning rate:0.001]\tLoss:0.201580  \n",
      "Train Epoch: 14 [51200/60000 (85%) / Learning rate:0.001]\tLoss:0.183424  \n",
      "Train Epoch: 14 [Test Loss: 0.13019206  /  Test accruacy: 95.99%]  \n",
      "////Epoch elapsed time: 18.27896237373352////\n",
      "\n",
      "Train Epoch: 15 [0/60000 (0%) / Learning rate:0.001]\tLoss:0.154607  \n",
      "Train Epoch: 15 [51200/60000 (85%) / Learning rate:0.001]\tLoss:0.109364  \n",
      "Train Epoch: 15 [Test Loss: 0.13094154  /  Test accruacy: 95.82%]  \n",
      "////Epoch elapsed time: 19.436116933822632////\n",
      "\n",
      "Train Epoch: 16 [0/60000 (0%) / Learning rate:0.001]\tLoss:0.170380  \n",
      "Train Epoch: 16 [51200/60000 (85%) / Learning rate:0.001]\tLoss:0.123509  \n",
      "Train Epoch: 16 [Test Loss: 0.12755753  /  Test accruacy: 95.81%]  \n",
      "////Epoch elapsed time: 18.52323341369629////\n",
      "\n",
      "Train Epoch: 17 [0/60000 (0%) / Learning rate:0.001]\tLoss:0.174547  \n",
      "Train Epoch: 17 [51200/60000 (85%) / Learning rate:0.001]\tLoss:0.148755  \n",
      "Train Epoch: 17 [Test Loss: 0.12616821  /  Test accruacy: 95.97%]  \n",
      "////Epoch elapsed time: 18.82726550102234////\n",
      "\n",
      "Train Epoch: 18 [0/60000 (0%) / Learning rate:0.001]\tLoss:0.134217  \n",
      "Train Epoch: 18 [51200/60000 (85%) / Learning rate:0.001]\tLoss:0.122984  \n",
      "Train Epoch: 18 [Test Loss: 0.12091814  /  Test accruacy: 96.11%]  \n",
      "////Epoch elapsed time: 19.585432291030884////\n",
      "\n",
      "Train Epoch: 19 [0/60000 (0%) / Learning rate:0.001]\tLoss:0.120342  \n",
      "Train Epoch: 19 [51200/60000 (85%) / Learning rate:0.001]\tLoss:0.104384  \n",
      "Train Epoch: 19 [Test Loss: 0.12472841  /  Test accruacy: 95.93%]  \n",
      "////Epoch elapsed time: 18.983941316604614////\n",
      "\n",
      "Train Epoch: 20 [0/60000 (0%) / Learning rate:0.001]\tLoss:0.126497  \n",
      "Train Epoch: 20 [51200/60000 (85%) / Learning rate:0.001]\tLoss:0.148165  \n",
      "Train Epoch: 20 [Test Loss: 0.11366793  /  Test accruacy: 96.34%]  \n",
      "////Epoch elapsed time: 19.044180870056152////\n",
      "\n",
      "Train Epoch: 21 [0/60000 (0%) / Learning rate:0.001]\tLoss:0.113970  \n",
      "Train Epoch: 21 [51200/60000 (85%) / Learning rate:0.001]\tLoss:0.100144  \n",
      "Train Epoch: 21 [Test Loss: 0.12909581  /  Test accruacy: 96.12%]  \n",
      "////Epoch elapsed time: 19.812957763671875////\n",
      "\n",
      "Train Epoch: 22 [0/60000 (0%) / Learning rate:0.001]\tLoss:0.129940  \n",
      "Train Epoch: 22 [51200/60000 (85%) / Learning rate:0.001]\tLoss:0.193550  \n",
      "Train Epoch: 22 [Test Loss: 0.10541414  /  Test accruacy: 96.54%]  \n",
      "////Epoch elapsed time: 18.475348234176636////\n",
      "\n",
      "Train Epoch: 23 [0/60000 (0%) / Learning rate:0.001]\tLoss:0.111333  \n",
      "Train Epoch: 23 [51200/60000 (85%) / Learning rate:0.001]\tLoss:0.137945  \n",
      "Train Epoch: 23 [Test Loss: 0.11856899  /  Test accruacy: 96.07%]  \n",
      "////Epoch elapsed time: 18.48988366127014////\n",
      "\n",
      "Train Epoch: 24 [0/60000 (0%) / Learning rate:0.001]\tLoss:0.127694  \n",
      "Train Epoch: 24 [51200/60000 (85%) / Learning rate:0.001]\tLoss:0.104966  \n",
      "Train Epoch: 24 [Test Loss: 0.11564060  /  Test accruacy: 96.29%]  \n",
      "////Epoch elapsed time: 18.45769739151001////\n",
      "\n",
      "Train Epoch: 25 [0/60000 (0%) / Learning rate:0.001]\tLoss:0.111485  \n",
      "Train Epoch: 25 [51200/60000 (85%) / Learning rate:0.001]\tLoss:0.072449  \n",
      "Train Epoch: 25 [Test Loss: 0.11101194  /  Test accruacy: 96.29%]  \n",
      "////Epoch elapsed time: 18.431780099868774////\n",
      "\n",
      "Train Epoch: 26 [0/60000 (0%) / Learning rate:0.001]\tLoss:0.155024  \n",
      "Train Epoch: 26 [51200/60000 (85%) / Learning rate:0.001]\tLoss:0.225215  \n",
      "Train Epoch: 26 [Test Loss: 0.10612163  /  Test accruacy: 96.55%]  \n",
      "////Epoch elapsed time: 18.965278148651123////\n",
      "\n",
      "Train Epoch: 27 [0/60000 (0%) / Learning rate:0.001]\tLoss:0.129821  \n",
      "Train Epoch: 27 [51200/60000 (85%) / Learning rate:0.001]\tLoss:0.125142  \n",
      "Train Epoch: 27 [Test Loss: 0.11438507  /  Test accruacy: 96.38%]  \n",
      "////Epoch elapsed time: 18.563928604125977////\n",
      "\n",
      "Train Epoch: 28 [0/60000 (0%) / Learning rate:0.001]\tLoss:0.243168  \n",
      "Train Epoch: 28 [51200/60000 (85%) / Learning rate:0.001]\tLoss:0.113374  \n",
      "Train Epoch: 28 [Test Loss: 0.10699590  /  Test accruacy: 96.51%]  \n",
      "////Epoch elapsed time: 18.593729972839355////\n",
      "\n",
      "Train Epoch: 29 [0/60000 (0%) / Learning rate:0.001]\tLoss:0.093379  \n",
      "Train Epoch: 29 [51200/60000 (85%) / Learning rate:0.001]\tLoss:0.090811  \n",
      "Train Epoch: 29 [Test Loss: 0.10784858  /  Test accruacy: 96.51%]  \n",
      "////Epoch elapsed time: 18.204590797424316////\n",
      "\n",
      "Train Epoch: 30 [0/60000 (0%) / Learning rate:0.001]\tLoss:0.114617  \n",
      "Train Epoch: 30 [51200/60000 (85%) / Learning rate:0.001]\tLoss:0.101128  \n",
      "Train Epoch: 30 [Test Loss: 0.10394406  /  Test accruacy: 96.73%]  \n",
      "////Epoch elapsed time: 19.27814483642578////\n",
      "\n",
      "Train Epoch: 31 [0/60000 (0%) / Learning rate:0.001]\tLoss:0.102961  \n",
      "Train Epoch: 31 [51200/60000 (85%) / Learning rate:0.001]\tLoss:0.135831  \n",
      "Train Epoch: 31 [Test Loss: 0.10981857  /  Test accruacy: 96.54%]  \n",
      "////Epoch elapsed time: 19.712915420532227////\n",
      "\n",
      "Train Epoch: 32 [0/60000 (0%) / Learning rate:0.001]\tLoss:0.141571  \n",
      "Train Epoch: 32 [51200/60000 (85%) / Learning rate:0.001]\tLoss:0.129636  \n",
      "Train Epoch: 32 [Test Loss: 0.10695196  /  Test accruacy: 96.60%]  \n",
      "////Epoch elapsed time: 19.76542830467224////\n",
      "\n",
      "Train Epoch: 33 [0/60000 (0%) / Learning rate:0.001]\tLoss:0.154611  \n",
      "Train Epoch: 33 [51200/60000 (85%) / Learning rate:0.001]\tLoss:0.075044  \n",
      "Train Epoch: 33 [Test Loss: 0.10627630  /  Test accruacy: 96.50%]  \n",
      "////Epoch elapsed time: 18.65372943878174////\n",
      "\n",
      "Train Epoch: 34 [0/60000 (0%) / Learning rate:0.001]\tLoss:0.094016  \n",
      "Train Epoch: 34 [51200/60000 (85%) / Learning rate:0.001]\tLoss:0.085975  \n",
      "Train Epoch: 34 [Test Loss: 0.12062319  /  Test accruacy: 96.28%]  \n",
      "////Epoch elapsed time: 19.563861846923828////\n",
      "\n",
      "Train Epoch: 35 [0/60000 (0%) / Learning rate:0.001]\tLoss:0.075471  \n",
      "Train Epoch: 35 [51200/60000 (85%) / Learning rate:0.001]\tLoss:0.109191  \n",
      "Train Epoch: 35 [Test Loss: 0.10201943  /  Test accruacy: 96.72%]  \n",
      "////Epoch elapsed time: 19.35845184326172////\n",
      "\n",
      "Train Epoch: 36 [0/60000 (0%) / Learning rate:0.001]\tLoss:0.121453  \n",
      "Train Epoch: 36 [51200/60000 (85%) / Learning rate:0.001]\tLoss:0.117587  \n",
      "Train Epoch: 36 [Test Loss: 0.10195520  /  Test accruacy: 96.59%]  \n",
      "////Epoch elapsed time: 18.318108320236206////\n",
      "\n",
      "Train Epoch: 37 [0/60000 (0%) / Learning rate:0.001]\tLoss:0.084512  \n",
      "Train Epoch: 37 [51200/60000 (85%) / Learning rate:0.001]\tLoss:0.154880  \n",
      "Train Epoch: 37 [Test Loss: 0.09704974  /  Test accruacy: 97.18%]  \n",
      "////Epoch elapsed time: 19.028336763381958////\n",
      "\n",
      "Train Epoch: 38 [0/60000 (0%) / Learning rate:0.001]\tLoss:0.104313  \n",
      "Train Epoch: 38 [51200/60000 (85%) / Learning rate:0.001]\tLoss:0.103868  \n",
      "Train Epoch: 38 [Test Loss: 0.10054675  /  Test accruacy: 96.78%]  \n",
      "////Epoch elapsed time: 18.39339590072632////\n",
      "\n",
      "Train Epoch: 39 [0/60000 (0%) / Learning rate:0.001]\tLoss:0.120472  \n",
      "Train Epoch: 39 [51200/60000 (85%) / Learning rate:0.001]\tLoss:0.076338  \n",
      "Train Epoch: 39 [Test Loss: 0.11030241  /  Test accruacy: 96.67%]  \n",
      "////Epoch elapsed time: 18.217620372772217////\n",
      "\n",
      "Train Epoch: 40 [0/60000 (0%) / Learning rate:0.001]\tLoss:0.078392  \n",
      "Train Epoch: 40 [51200/60000 (85%) / Learning rate:0.001]\tLoss:0.100044  \n",
      "Train Epoch: 40 [Test Loss: 0.09831781  /  Test accruacy: 96.73%]  \n",
      "////Epoch elapsed time: 19.137250185012817////\n",
      "\n",
      "Train Epoch: 41 [0/60000 (0%) / Learning rate:0.001]\tLoss:0.055071  \n",
      "Train Epoch: 41 [51200/60000 (85%) / Learning rate:0.001]\tLoss:0.071416  \n",
      "Train Epoch: 41 [Test Loss: 0.10620683  /  Test accruacy: 96.79%]  \n",
      "////Epoch elapsed time: 18.999963998794556////\n",
      "\n",
      "Train Epoch: 42 [0/60000 (0%) / Learning rate:0.001]\tLoss:0.094336  \n",
      "Train Epoch: 42 [51200/60000 (85%) / Learning rate:0.001]\tLoss:0.098977  \n",
      "Train Epoch: 42 [Test Loss: 0.10194652  /  Test accruacy: 96.73%]  \n",
      "////Epoch elapsed time: 19.387951374053955////\n",
      "\n",
      "Train Epoch: 43 [0/60000 (0%) / Learning rate:0.001]\tLoss:0.127426  \n",
      "Train Epoch: 43 [51200/60000 (85%) / Learning rate:0.001]\tLoss:0.151404  \n",
      "Train Epoch: 43 [Test Loss: 0.09718644  /  Test accruacy: 97.02%]  \n",
      "////Epoch elapsed time: 18.70302391052246////\n",
      "\n",
      "Train Epoch: 44 [0/60000 (0%) / Learning rate:0.001]\tLoss:0.078912  \n",
      "Train Epoch: 44 [51200/60000 (85%) / Learning rate:0.001]\tLoss:0.090708  \n",
      "Train Epoch: 44 [Test Loss: 0.09246340  /  Test accruacy: 96.89%]  \n",
      "////Epoch elapsed time: 18.779982566833496////\n",
      "\n",
      "Train Epoch: 45 [0/60000 (0%) / Learning rate:0.0001]\tLoss:0.112080  \n",
      "Train Epoch: 45 [51200/60000 (85%) / Learning rate:0.0001]\tLoss:0.097025  \n",
      "Train Epoch: 45 [Test Loss: 0.07638045  /  Test accruacy: 97.55%]  \n",
      "////Epoch elapsed time: 19.444833993911743////\n",
      "\n",
      "Train Epoch: 46 [0/60000 (0%) / Learning rate:0.0001]\tLoss:0.124707  \n",
      "Train Epoch: 46 [51200/60000 (85%) / Learning rate:0.0001]\tLoss:0.101795  \n",
      "Train Epoch: 46 [Test Loss: 0.07777114  /  Test accruacy: 97.47%]  \n",
      "////Epoch elapsed time: 18.533677577972412////\n",
      "\n",
      "Train Epoch: 47 [0/60000 (0%) / Learning rate:0.0001]\tLoss:0.065096  \n",
      "Train Epoch: 47 [51200/60000 (85%) / Learning rate:0.0001]\tLoss:0.062608  \n",
      "Train Epoch: 47 [Test Loss: 0.07057088  /  Test accruacy: 97.86%]  \n",
      "////Epoch elapsed time: 18.697836875915527////\n",
      "\n",
      "Train Epoch: 48 [0/60000 (0%) / Learning rate:0.0001]\tLoss:0.073773  \n",
      "Train Epoch: 48 [51200/60000 (85%) / Learning rate:0.0001]\tLoss:0.079644  \n",
      "Train Epoch: 48 [Test Loss: 0.08150162  /  Test accruacy: 97.41%]  \n",
      "////Epoch elapsed time: 18.61851453781128////\n",
      "\n",
      "Train Epoch: 49 [0/60000 (0%) / Learning rate:0.0001]\tLoss:0.032472  \n",
      "Train Epoch: 49 [51200/60000 (85%) / Learning rate:0.0001]\tLoss:0.100307  \n",
      "Train Epoch: 49 [Test Loss: 0.08776381  /  Test accruacy: 97.13%]  \n",
      "////Epoch elapsed time: 19.65569305419922////\n",
      "\n",
      "Train Epoch: 50 [0/60000 (0%) / Learning rate:0.0001]\tLoss:0.063947  \n",
      "Train Epoch: 50 [51200/60000 (85%) / Learning rate:0.0001]\tLoss:0.065099  \n",
      "Train Epoch: 50 [Test Loss: 0.07943376  /  Test accruacy: 97.49%]  \n",
      "////Epoch elapsed time: 18.995043516159058////\n",
      "\n",
      "Train Epoch: 51 [0/60000 (0%) / Learning rate:0.0001]\tLoss:0.144960  \n",
      "Train Epoch: 51 [51200/60000 (85%) / Learning rate:0.0001]\tLoss:0.064666  \n",
      "Train Epoch: 51 [Test Loss: 0.07990931  /  Test accruacy: 97.54%]  \n",
      "////Epoch elapsed time: 19.779022693634033////\n",
      "\n",
      "Train Epoch: 52 [0/60000 (0%) / Learning rate:0.0001]\tLoss:0.048388  \n",
      "Train Epoch: 52 [51200/60000 (85%) / Learning rate:0.0001]\tLoss:0.092367  \n",
      "Train Epoch: 52 [Test Loss: 0.07530252  /  Test accruacy: 97.65%]  \n",
      "////Epoch elapsed time: 18.258178234100342////\n",
      "\n",
      "Train Epoch: 53 [0/60000 (0%) / Learning rate:0.0001]\tLoss:0.078284  \n",
      "Train Epoch: 53 [51200/60000 (85%) / Learning rate:0.0001]\tLoss:0.141512  \n",
      "Train Epoch: 53 [Test Loss: 0.07691491  /  Test accruacy: 97.55%]  \n",
      "////Epoch elapsed time: 19.167656421661377////\n",
      "\n",
      "Train Epoch: 54 [0/60000 (0%) / Learning rate:0.0001]\tLoss:0.043538  \n",
      "Train Epoch: 54 [51200/60000 (85%) / Learning rate:0.0001]\tLoss:0.080195  \n",
      "Train Epoch: 54 [Test Loss: 0.07285850  /  Test accruacy: 97.69%]  \n",
      "////Epoch elapsed time: 19.625067949295044////\n",
      "\n",
      "Train Epoch: 55 [0/60000 (0%) / Learning rate:1e-05]\tLoss:0.070781  \n",
      "Train Epoch: 55 [51200/60000 (85%) / Learning rate:1e-05]\tLoss:0.089524  \n",
      "Train Epoch: 55 [Test Loss: 0.07915918  /  Test accruacy: 97.57%]  \n",
      "////Epoch elapsed time: 20.176819801330566////\n",
      "\n",
      "Train Epoch: 56 [0/60000 (0%) / Learning rate:1e-05]\tLoss:0.074292  \n",
      "Train Epoch: 56 [51200/60000 (85%) / Learning rate:1e-05]\tLoss:0.055125  \n",
      "Train Epoch: 56 [Test Loss: 0.07065753  /  Test accruacy: 97.69%]  \n",
      "////Epoch elapsed time: 19.757693767547607////\n",
      "\n",
      "Train Epoch: 57 [0/60000 (0%) / Learning rate:1e-05]\tLoss:0.054423  \n",
      "Train Epoch: 57 [51200/60000 (85%) / Learning rate:1e-05]\tLoss:0.042504  \n",
      "Train Epoch: 57 [Test Loss: 0.07597300  /  Test accruacy: 97.59%]  \n",
      "////Epoch elapsed time: 18.567257404327393////\n",
      "\n",
      "Train Epoch: 58 [0/60000 (0%) / Learning rate:1e-05]\tLoss:0.110753  \n",
      "Train Epoch: 58 [51200/60000 (85%) / Learning rate:1e-05]\tLoss:0.069551  \n",
      "Train Epoch: 58 [Test Loss: 0.07170812  /  Test accruacy: 97.70%]  \n",
      "////Epoch elapsed time: 19.615894556045532////\n",
      "\n",
      "Train Epoch: 59 [0/60000 (0%) / Learning rate:1e-05]\tLoss:0.159518  \n",
      "Train Epoch: 59 [51200/60000 (85%) / Learning rate:1e-05]\tLoss:0.060796  \n",
      "Train Epoch: 59 [Test Loss: 0.07196775  /  Test accruacy: 97.81%]  \n",
      "////Epoch elapsed time: 19.373589515686035////\n",
      "\n"
     ]
    }
   ],
   "source": [
    "#############\n",
    "# CODE HERE #\n",
    "#############\n",
    "\n",
    "\n",
    "# Loss\n",
    "criterion = nn.CrossEntropyLoss()\n",
    "\n",
    "# Model to GPU\n",
    "model_nostn.to(device0)\n",
    "\n",
    "print('STEP 7: TRAIN THE MODEL')\n",
    "best_acc = 0\n",
    "\n",
    "for epoch in range(num_epoch):\n",
    "    #TRAIN\n",
    "    model_nostn.train()\n",
    "    start = time.time()\n",
    "    \n",
    "    for j,(img,label) in enumerate(train_loader):\n",
    "        \n",
    "        #############\n",
    "        # CODE HERE #\n",
    "        #############\n",
    "        img, label = img.to(device0), label.to(device0)\n",
    "        \n",
    "        optimizer.zero_grad()\n",
    "        \n",
    "        pred = model_nostn(img)\n",
    "        \n",
    "        loss = criterion(pred, label)\n",
    "        \n",
    "        loss.backward()\n",
    "        \n",
    "        optimizer.step()\n",
    "        \n",
    "        if j % 200 == 0:\n",
    "            \n",
    "            print('Train Epoch: {} [{}/{} ({:.0f}%) / Learning rate:{}]\\tLoss:{:.6f}  '.format(\n",
    "                    epoch, j * len(img), train_size,\n",
    "                    100. * j / len(train_loader),get_lr(optimizer), loss.item()))\n",
    "            \n",
    "           \n",
    "                    \n",
    "    #Test\n",
    "    model_nostn.eval()\n",
    "    #############\n",
    "    # CODE HERE #\n",
    "    #############\n",
    "    # accuracy for whole data\n",
    "    total_num = 0\n",
    "    correct_num = 0\n",
    "    loss_test = []\n",
    "    with torch.no_grad():        \n",
    "        for j, (img, label) in enumerate(test_loader):\n",
    "            img, label = img.to(device0), label.to(device0)\n",
    "\n",
    "            pred = model_nostn(img)\n",
    "            loss_test.append(criterion(pred, label))\n",
    "            \n",
    "            total_num += len(img) \n",
    "            correct_num += (label == pred.max(1).indices).sum()\n",
    "    # test accuracy\n",
    "    accuracy = 100*correct_num / total_num\n",
    "    \n",
    "    print('Train Epoch: {} [Test Loss: {:.8f}  /  Test accruacy: {:.2f}%]  '.format(epoch, sum(loss_test)/len(loss_test),accuracy ))   \n",
    "    print('////Epoch elapsed time: {}////\\n'.format(time.time() - start))  \n",
    "    \n",
    "    \n",
    "    if accuracy > best_acc :\n",
    "        torch.save({\n",
    "            'epoch': epoch,\n",
    "            'model_state_dict': model_nostn.state_dict(),\n",
    "            'optimizer_state_dict': optimizer.state_dict(),\n",
    "            'loss': loss,\n",
    "            'accuracy': accuracy\n",
    "            \n",
    "            }, './weights/lab04/best_model_nostn.tar')\n",
    "       \n",
    "        best_acc = accuracy\n",
    "        \n",
    "    scheduler.step(accuracy)"
   ]
  },
  {
   "cell_type": "markdown",
   "metadata": {
    "colab_type": "text",
    "id": "EgPo5F4x2OYC"
   },
   "source": [
    "#### Best accuracy of the model without ST module\n"
   ]
  },
  {
   "cell_type": "code",
   "execution_count": 378,
   "metadata": {},
   "outputs": [
    {
     "name": "stdout",
     "output_type": "stream",
     "text": [
      "Best accuracy of our model without ST module:  tensor(97.8566, device='cuda:0')\n"
     ]
    }
   ],
   "source": [
    "print('Best accuracy of our model without ST module: ', best_acc)"
   ]
  },
  {
   "cell_type": "markdown",
   "metadata": {},
   "source": [
    "![image](./Untitled.png)"
   ]
  },
  {
   "cell_type": "markdown",
   "metadata": {
    "colab_type": "text",
    "id": "LLpVgYys2OYF"
   },
   "source": [
    "### *References*\n",
    "[1] https://arxiv.org/pdf/1506.02025.pdf <br>\n",
    "[2] https://en.wikipedia.org/wiki/Affine_transformation <br>\n",
    "[3] https://en.wikipedia.org/wiki/Transformation_matrix#Affine_transformations <br>\n",
    "[4] https://pytorch.org/docs/stable/nn.html#affine-grid <br>\n",
    "[5] https://pytorch.org/docs/stable/nn.html#torch.nn.functional.grid_sample <br>\n",
    "[6] http://cs231n.github.io/neural-networks-3/#anneal <br>\n",
    "[7] https://pytorch.org/docs/stable/optim.html#how-to-adjust-learning-rate <br>"
   ]
  }
 ],
 "metadata": {
  "colab": {
   "collapsed_sections": [],
   "name": "EEE4423_lab5_STN_problem.ipynb",
   "provenance": [],
   "version": "0.3.2"
  },
  "kernelspec": {
   "display_name": "Full on Python 3.6 (GPU)",
   "language": "python",
   "name": "python3"
  },
  "language_info": {
   "codemirror_mode": {
    "name": "ipython",
    "version": 3
   },
   "file_extension": ".py",
   "mimetype": "text/x-python",
   "name": "python",
   "nbconvert_exporter": "python",
   "pygments_lexer": "ipython3",
   "version": "3.6.14"
  }
 },
 "nbformat": 4,
 "nbformat_minor": 4
}
